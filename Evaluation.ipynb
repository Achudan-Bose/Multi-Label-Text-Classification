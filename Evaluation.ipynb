{
  "nbformat": 4,
  "nbformat_minor": 0,
  "metadata": {
    "colab": {
      "provenance": [],
      "gpuType": "T4",
      "authorship_tag": "ABX9TyPoRNci1GbOlnyBHojr6nyw"
    },
    "kernelspec": {
      "name": "python3",
      "display_name": "Python 3"
    },
    "language_info": {
      "name": "python"
    },
    "accelerator": "GPU"
  },
  "cells": [
    {
      "cell_type": "code",
      "execution_count": null,
      "metadata": {
        "colab": {
          "base_uri": "https://localhost:8080/"
        },
        "id": "tXU-di1oLJGi",
        "outputId": "70989fc5-4b2f-49cb-9b5a-1154991412de"
      },
      "outputs": [
        {
          "output_type": "stream",
          "name": "stdout",
          "text": [
            "Drive already mounted at /content/drive; to attempt to forcibly remount, call drive.mount(\"/content/drive\", force_remount=True).\n"
          ]
        }
      ],
      "source": [
        "from google.colab import drive\n",
        "drive.mount('/content/drive')"
      ]
    },
    {
      "cell_type": "code",
      "source": [
        "import torch\n",
        "from torch.utils.data import DataLoader, SequentialSampler\n",
        "from transformers import AutoModelForSequenceClassification\n",
        "from sklearn.metrics import classification_report, f1_score, accuracy_score\n",
        "import pandas as pd\n",
        "import ast"
      ],
      "metadata": {
        "id": "B1MdCXXkLNlK"
      },
      "execution_count": null,
      "outputs": []
    },
    {
      "cell_type": "code",
      "source": [
        "test_data=torch.load('/content/drive/My Drive/tensor data/test_data.pt', weights_only=False)"
      ],
      "metadata": {
        "id": "dyLRqUD2LNne"
      },
      "execution_count": null,
      "outputs": []
    },
    {
      "cell_type": "markdown",
      "source": [
        "Loading the test tensor dataset."
      ],
      "metadata": {
        "id": "rz861TCZiyTu"
      }
    },
    {
      "cell_type": "code",
      "source": [
        "batch_size=64\n",
        "\n",
        "test_sampler=SequentialSampler(test_data)\n",
        "test_dataloader=DataLoader(test_data, sampler=test_sampler, batch_size=batch_size)"
      ],
      "metadata": {
        "id": "Gu0mKIloMUUS"
      },
      "execution_count": null,
      "outputs": []
    },
    {
      "cell_type": "markdown",
      "source": [
        "Creating test dataloader with sequential sampler to ensure reproducibility."
      ],
      "metadata": {
        "id": "1Kyd1URLi0pO"
      }
    },
    {
      "cell_type": "code",
      "source": [
        "model = AutoModelForSequenceClassification.from_pretrained(\"thomas-sounack/BioClinical-ModernBERT-base\", num_labels=14)\n",
        "model.cuda()"
      ],
      "metadata": {
        "colab": {
          "base_uri": "https://localhost:8080/"
        },
        "id": "OivlQR0JMUXY",
        "outputId": "3704a048-8d75-4c94-ca6e-6deed9de2b0b"
      },
      "execution_count": null,
      "outputs": [
        {
          "output_type": "stream",
          "name": "stderr",
          "text": [
            "Some weights of ModernBertForSequenceClassification were not initialized from the model checkpoint at thomas-sounack/BioClinical-ModernBERT-base and are newly initialized: ['classifier.bias', 'classifier.weight']\n",
            "You should probably TRAIN this model on a down-stream task to be able to use it for predictions and inference.\n"
          ]
        },
        {
          "output_type": "execute_result",
          "data": {
            "text/plain": [
              "ModernBertForSequenceClassification(\n",
              "  (model): ModernBertModel(\n",
              "    (embeddings): ModernBertEmbeddings(\n",
              "      (tok_embeddings): Embedding(50368, 768, padding_idx=50283)\n",
              "      (norm): LayerNorm((768,), eps=1e-05, elementwise_affine=True)\n",
              "      (drop): Dropout(p=0.0, inplace=False)\n",
              "    )\n",
              "    (layers): ModuleList(\n",
              "      (0): ModernBertEncoderLayer(\n",
              "        (attn_norm): Identity()\n",
              "        (attn): ModernBertAttention(\n",
              "          (Wqkv): Linear(in_features=768, out_features=2304, bias=False)\n",
              "          (rotary_emb): ModernBertRotaryEmbedding()\n",
              "          (Wo): Linear(in_features=768, out_features=768, bias=False)\n",
              "          (out_drop): Identity()\n",
              "        )\n",
              "        (mlp_norm): LayerNorm((768,), eps=1e-05, elementwise_affine=True)\n",
              "        (mlp): ModernBertMLP(\n",
              "          (Wi): Linear(in_features=768, out_features=2304, bias=False)\n",
              "          (act): GELUActivation()\n",
              "          (drop): Dropout(p=0.0, inplace=False)\n",
              "          (Wo): Linear(in_features=1152, out_features=768, bias=False)\n",
              "        )\n",
              "      )\n",
              "      (1-21): 21 x ModernBertEncoderLayer(\n",
              "        (attn_norm): LayerNorm((768,), eps=1e-05, elementwise_affine=True)\n",
              "        (attn): ModernBertAttention(\n",
              "          (Wqkv): Linear(in_features=768, out_features=2304, bias=False)\n",
              "          (rotary_emb): ModernBertRotaryEmbedding()\n",
              "          (Wo): Linear(in_features=768, out_features=768, bias=False)\n",
              "          (out_drop): Identity()\n",
              "        )\n",
              "        (mlp_norm): LayerNorm((768,), eps=1e-05, elementwise_affine=True)\n",
              "        (mlp): ModernBertMLP(\n",
              "          (Wi): Linear(in_features=768, out_features=2304, bias=False)\n",
              "          (act): GELUActivation()\n",
              "          (drop): Dropout(p=0.0, inplace=False)\n",
              "          (Wo): Linear(in_features=1152, out_features=768, bias=False)\n",
              "        )\n",
              "      )\n",
              "    )\n",
              "    (final_norm): LayerNorm((768,), eps=1e-05, elementwise_affine=True)\n",
              "  )\n",
              "  (head): ModernBertPredictionHead(\n",
              "    (dense): Linear(in_features=768, out_features=768, bias=False)\n",
              "    (act): SiLU()\n",
              "    (norm): LayerNorm((768,), eps=1e-05, elementwise_affine=True)\n",
              "  )\n",
              "  (drop): Dropout(p=0.0, inplace=False)\n",
              "  (classifier): Linear(in_features=768, out_features=14, bias=True)\n",
              ")"
            ]
          },
          "metadata": {},
          "execution_count": 26
        }
      ]
    },
    {
      "cell_type": "markdown",
      "source": [
        "Loading the model and moving to GPU for processing."
      ],
      "metadata": {
        "id": "85wHyzRojAMA"
      }
    },
    {
      "cell_type": "code",
      "source": [
        "checkpoint=torch.load('/content/drive/My Drive/checkpoints/epoch_6.pt')\n",
        "\n",
        "model.load_state_dict(checkpoint['model_state_dict'])"
      ],
      "metadata": {
        "colab": {
          "base_uri": "https://localhost:8080/"
        },
        "id": "cwC8dwjNMUdr",
        "outputId": "163bf8c6-d1e4-4b0e-e410-33851ecee4f4"
      },
      "execution_count": null,
      "outputs": [
        {
          "output_type": "execute_result",
          "data": {
            "text/plain": [
              "<All keys matched successfully>"
            ]
          },
          "metadata": {},
          "execution_count": 27
        }
      ]
    },
    {
      "cell_type": "markdown",
      "source": [
        "Loading the latest checkpoint and getting the model state dictionary for evaluation."
      ],
      "metadata": {
        "id": "XcNc3c-njGEC"
      }
    },
    {
      "cell_type": "code",
      "source": [
        "device = torch.device(\"cuda\" if torch.cuda.is_available() else \"cpu\")"
      ],
      "metadata": {
        "id": "UAUh2Km8QbvB"
      },
      "execution_count": null,
      "outputs": []
    },
    {
      "cell_type": "markdown",
      "source": [
        "Setting the device to GPU"
      ],
      "metadata": {
        "id": "TSY8CjyejP25"
      }
    },
    {
      "cell_type": "code",
      "source": [
        "model.eval()\n",
        "\n",
        "#track variables\n",
        "logit_preds,true_labels,pred_labels,tokenized_texts = [],[],[],[]\n",
        "\n",
        "# Predict\n",
        "for i, batch in enumerate(test_dataloader):\n",
        "    batch = tuple(t.to(device) for t in batch)\n",
        "    # Unpack the inputs from our dataloader\n",
        "    b_input_ids, b_input_mask, b_labels, = batch\n",
        "    with torch.no_grad():\n",
        "        # Forward pass\n",
        "        outs = model(b_input_ids, token_type_ids=None, attention_mask=b_input_mask)\n",
        "        b_logit_pred = outs[0]\n",
        "        pred_label = torch.sigmoid(b_logit_pred)\n",
        "\n",
        "        b_logit_pred = b_logit_pred.detach().cpu().numpy()\n",
        "        pred_label = pred_label.to('cpu').numpy()\n",
        "        b_labels = b_labels.to('cpu').numpy()\n",
        "\n",
        "    tokenized_texts.append(b_input_ids)\n",
        "    logit_preds.append(b_logit_pred)\n",
        "    true_labels.append(b_labels)\n",
        "    pred_labels.append(pred_label)\n",
        "\n",
        "# Flatten outputs\n",
        "tokenized_texts = [item for sublist in tokenized_texts for item in sublist]\n",
        "pred_labels = [item for sublist in pred_labels for item in sublist]\n",
        "true_labels = [item for sublist in true_labels for item in sublist]\n",
        "# Converting flattened binary values to boolean values\n",
        "true_bools = [tl==1 for tl in true_labels]"
      ],
      "metadata": {
        "id": "96cFo7lKLNqG"
      },
      "execution_count": null,
      "outputs": []
    },
    {
      "cell_type": "markdown",
      "source": [
        "Evaluation of the model on test dataset in batches using the test dataloader.\n",
        "Predicted probabilities are obtained using the sigmoid function.\n",
        "True labels and predicted probabilites are converted to single lists (from nested lists) for further evaluation."
      ],
      "metadata": {
        "id": "MEl8bNFIjUK8"
      }
    },
    {
      "cell_type": "code",
      "source": [
        "pred_bools = [pl>0.50 for pl in pred_labels] #boolean output after thresholding\n",
        "# Print and save classification report\n",
        "Test_F1_Accuracy=f1_score(true_bools, pred_bools,average='micro')\n",
        "Test_Flat_Accuracy= accuracy_score(true_bools, pred_bools)\n",
        "print('Test F1 Accuracy: ',Test_F1_Accuracy )\n",
        "print('Test Flat Accuracy: ',Test_Flat_Accuracy,'\\n')\n",
        "\n",
        "df_test=pd.DataFrame({'Test F1 Accuracy':Test_F1_Accuracy, 'Test Flat Accuracy':Test_Flat_Accuracy},index=[0])\n",
        "\n",
        "print(classification_report(true_bools,pred_bools,target_names=['A', 'B', 'C', 'D', 'E', 'F', 'G', 'H', 'I', 'J', 'L', 'M', 'N', 'Z']))\n",
        "clf_report = classification_report(true_bools,pred_bools,target_names=['A', 'B', 'C', 'D', 'E', 'F', 'G', 'H', 'I', 'J', 'L', 'M', 'N', 'Z'],output_dict=True)\n",
        "df_report=pd.DataFrame(clf_report).transpose()"
      ],
      "metadata": {
        "colab": {
          "base_uri": "https://localhost:8080/"
        },
        "id": "TnattmNcLNtf",
        "outputId": "fd85f947-3a12-4839-a9d9-1a0d86dfcdce"
      },
      "execution_count": null,
      "outputs": [
        {
          "output_type": "stream",
          "name": "stdout",
          "text": [
            "Test F1 Accuracy:  0.8517633465507733\n",
            "Test Flat Accuracy:  0.16483405628972056 \n",
            "\n",
            "              precision    recall  f1-score   support\n",
            "\n",
            "           A       0.84      0.73      0.78      4730\n",
            "           B       0.98      0.98      0.98      9324\n",
            "           C       0.88      0.88      0.88      5201\n",
            "           D       0.93      0.91      0.92      6257\n",
            "           E       0.82      0.95      0.88      7835\n",
            "           F       0.83      0.73      0.78      1765\n",
            "           G       0.83      0.89      0.86      6776\n",
            "           H       0.46      0.24      0.32      1189\n",
            "           I       0.65      0.61      0.63      1085\n",
            "           J       0.64      0.60      0.62      1098\n",
            "           L       0.61      0.53      0.56      1476\n",
            "           M       0.87      0.91      0.89      4223\n",
            "           N       0.77      0.81      0.79      4481\n",
            "           Z       0.73      0.73      0.73      1535\n",
            "\n",
            "   micro avg       0.85      0.85      0.85     56975\n",
            "   macro avg       0.78      0.75      0.76     56975\n",
            "weighted avg       0.85      0.85      0.85     56975\n",
            " samples avg       0.85      0.87      0.85     56975\n",
            "\n"
          ]
        }
      ]
    },
    {
      "cell_type": "markdown",
      "source": [
        "Predicted probabilites are converted into binary using a threshold of 0.5.\n",
        "F1 score and accuracy are calculated.\n",
        "More detailed classification report is calculated for each label and printed."
      ],
      "metadata": {
        "id": "AwtxuqktjV6Z"
      }
    },
    {
      "cell_type": "code",
      "source": [
        "df_report.to_csv('/content/drive/My Drive/Classification_Report.csv',index=False)"
      ],
      "metadata": {
        "id": "8MmjcT_RR1nU"
      },
      "execution_count": null,
      "outputs": []
    },
    {
      "cell_type": "markdown",
      "source": [
        "Saving the report as a csv file in Google Drive"
      ],
      "metadata": {
        "id": "AN590MPYjWTp"
      }
    },
    {
      "cell_type": "code",
      "source": [
        "df_acc=pd.DataFrame({'True Labels':true_bools, 'Pred Labels':pred_bools})\n",
        "df_acc.head()"
      ],
      "metadata": {
        "colab": {
          "base_uri": "https://localhost:8080/",
          "height": 206
        },
        "id": "FYYCQXy_xVZU",
        "outputId": "5a8c2342-edb4-47c7-9ba0-3db9e4bf2d58"
      },
      "execution_count": null,
      "outputs": [
        {
          "output_type": "execute_result",
          "data": {
            "text/plain": [
              "                                         True Labels  \\\n",
              "0  [True, True, True, True, True, False, True, Fa...   \n",
              "1  [False, True, False, False, False, False, Fals...   \n",
              "2  [True, True, True, True, True, True, True, Fal...   \n",
              "3  [True, True, False, False, True, False, True, ...   \n",
              "4  [True, True, False, True, True, False, False, ...   \n",
              "\n",
              "                                         Pred Labels  \n",
              "0  [True, True, True, True, True, False, True, Fa...  \n",
              "1  [False, True, False, False, True, True, False,...  \n",
              "2  [True, True, True, False, True, True, True, Fa...  \n",
              "3  [True, True, True, False, True, False, True, F...  \n",
              "4  [True, True, True, True, True, False, False, F...  "
            ],
            "text/html": [
              "\n",
              "  <div id=\"df-0c6986e6-8965-40f5-a81e-771a7fe5dca0\" class=\"colab-df-container\">\n",
              "    <div>\n",
              "<style scoped>\n",
              "    .dataframe tbody tr th:only-of-type {\n",
              "        vertical-align: middle;\n",
              "    }\n",
              "\n",
              "    .dataframe tbody tr th {\n",
              "        vertical-align: top;\n",
              "    }\n",
              "\n",
              "    .dataframe thead th {\n",
              "        text-align: right;\n",
              "    }\n",
              "</style>\n",
              "<table border=\"1\" class=\"dataframe\">\n",
              "  <thead>\n",
              "    <tr style=\"text-align: right;\">\n",
              "      <th></th>\n",
              "      <th>True Labels</th>\n",
              "      <th>Pred Labels</th>\n",
              "    </tr>\n",
              "  </thead>\n",
              "  <tbody>\n",
              "    <tr>\n",
              "      <th>0</th>\n",
              "      <td>[True, True, True, True, True, False, True, Fa...</td>\n",
              "      <td>[True, True, True, True, True, False, True, Fa...</td>\n",
              "    </tr>\n",
              "    <tr>\n",
              "      <th>1</th>\n",
              "      <td>[False, True, False, False, False, False, Fals...</td>\n",
              "      <td>[False, True, False, False, True, True, False,...</td>\n",
              "    </tr>\n",
              "    <tr>\n",
              "      <th>2</th>\n",
              "      <td>[True, True, True, True, True, True, True, Fal...</td>\n",
              "      <td>[True, True, True, False, True, True, True, Fa...</td>\n",
              "    </tr>\n",
              "    <tr>\n",
              "      <th>3</th>\n",
              "      <td>[True, True, False, False, True, False, True, ...</td>\n",
              "      <td>[True, True, True, False, True, False, True, F...</td>\n",
              "    </tr>\n",
              "    <tr>\n",
              "      <th>4</th>\n",
              "      <td>[True, True, False, True, True, False, False, ...</td>\n",
              "      <td>[True, True, True, True, True, False, False, F...</td>\n",
              "    </tr>\n",
              "  </tbody>\n",
              "</table>\n",
              "</div>\n",
              "    <div class=\"colab-df-buttons\">\n",
              "\n",
              "  <div class=\"colab-df-container\">\n",
              "    <button class=\"colab-df-convert\" onclick=\"convertToInteractive('df-0c6986e6-8965-40f5-a81e-771a7fe5dca0')\"\n",
              "            title=\"Convert this dataframe to an interactive table.\"\n",
              "            style=\"display:none;\">\n",
              "\n",
              "  <svg xmlns=\"http://www.w3.org/2000/svg\" height=\"24px\" viewBox=\"0 -960 960 960\">\n",
              "    <path d=\"M120-120v-720h720v720H120Zm60-500h600v-160H180v160Zm220 220h160v-160H400v160Zm0 220h160v-160H400v160ZM180-400h160v-160H180v160Zm440 0h160v-160H620v160ZM180-180h160v-160H180v160Zm440 0h160v-160H620v160Z\"/>\n",
              "  </svg>\n",
              "    </button>\n",
              "\n",
              "  <style>\n",
              "    .colab-df-container {\n",
              "      display:flex;\n",
              "      gap: 12px;\n",
              "    }\n",
              "\n",
              "    .colab-df-convert {\n",
              "      background-color: #E8F0FE;\n",
              "      border: none;\n",
              "      border-radius: 50%;\n",
              "      cursor: pointer;\n",
              "      display: none;\n",
              "      fill: #1967D2;\n",
              "      height: 32px;\n",
              "      padding: 0 0 0 0;\n",
              "      width: 32px;\n",
              "    }\n",
              "\n",
              "    .colab-df-convert:hover {\n",
              "      background-color: #E2EBFA;\n",
              "      box-shadow: 0px 1px 2px rgba(60, 64, 67, 0.3), 0px 1px 3px 1px rgba(60, 64, 67, 0.15);\n",
              "      fill: #174EA6;\n",
              "    }\n",
              "\n",
              "    .colab-df-buttons div {\n",
              "      margin-bottom: 4px;\n",
              "    }\n",
              "\n",
              "    [theme=dark] .colab-df-convert {\n",
              "      background-color: #3B4455;\n",
              "      fill: #D2E3FC;\n",
              "    }\n",
              "\n",
              "    [theme=dark] .colab-df-convert:hover {\n",
              "      background-color: #434B5C;\n",
              "      box-shadow: 0px 1px 3px 1px rgba(0, 0, 0, 0.15);\n",
              "      filter: drop-shadow(0px 1px 2px rgba(0, 0, 0, 0.3));\n",
              "      fill: #FFFFFF;\n",
              "    }\n",
              "  </style>\n",
              "\n",
              "    <script>\n",
              "      const buttonEl =\n",
              "        document.querySelector('#df-0c6986e6-8965-40f5-a81e-771a7fe5dca0 button.colab-df-convert');\n",
              "      buttonEl.style.display =\n",
              "        google.colab.kernel.accessAllowed ? 'block' : 'none';\n",
              "\n",
              "      async function convertToInteractive(key) {\n",
              "        const element = document.querySelector('#df-0c6986e6-8965-40f5-a81e-771a7fe5dca0');\n",
              "        const dataTable =\n",
              "          await google.colab.kernel.invokeFunction('convertToInteractive',\n",
              "                                                    [key], {});\n",
              "        if (!dataTable) return;\n",
              "\n",
              "        const docLinkHtml = 'Like what you see? Visit the ' +\n",
              "          '<a target=\"_blank\" href=https://colab.research.google.com/notebooks/data_table.ipynb>data table notebook</a>'\n",
              "          + ' to learn more about interactive tables.';\n",
              "        element.innerHTML = '';\n",
              "        dataTable['output_type'] = 'display_data';\n",
              "        await google.colab.output.renderOutput(dataTable, element);\n",
              "        const docLink = document.createElement('div');\n",
              "        docLink.innerHTML = docLinkHtml;\n",
              "        element.appendChild(docLink);\n",
              "      }\n",
              "    </script>\n",
              "  </div>\n",
              "\n",
              "\n",
              "    <div id=\"df-dcb52fcd-4da7-444a-a2ad-489ac6aa4972\">\n",
              "      <button class=\"colab-df-quickchart\" onclick=\"quickchart('df-dcb52fcd-4da7-444a-a2ad-489ac6aa4972')\"\n",
              "                title=\"Suggest charts\"\n",
              "                style=\"display:none;\">\n",
              "\n",
              "<svg xmlns=\"http://www.w3.org/2000/svg\" height=\"24px\"viewBox=\"0 0 24 24\"\n",
              "     width=\"24px\">\n",
              "    <g>\n",
              "        <path d=\"M19 3H5c-1.1 0-2 .9-2 2v14c0 1.1.9 2 2 2h14c1.1 0 2-.9 2-2V5c0-1.1-.9-2-2-2zM9 17H7v-7h2v7zm4 0h-2V7h2v10zm4 0h-2v-4h2v4z\"/>\n",
              "    </g>\n",
              "</svg>\n",
              "      </button>\n",
              "\n",
              "<style>\n",
              "  .colab-df-quickchart {\n",
              "      --bg-color: #E8F0FE;\n",
              "      --fill-color: #1967D2;\n",
              "      --hover-bg-color: #E2EBFA;\n",
              "      --hover-fill-color: #174EA6;\n",
              "      --disabled-fill-color: #AAA;\n",
              "      --disabled-bg-color: #DDD;\n",
              "  }\n",
              "\n",
              "  [theme=dark] .colab-df-quickchart {\n",
              "      --bg-color: #3B4455;\n",
              "      --fill-color: #D2E3FC;\n",
              "      --hover-bg-color: #434B5C;\n",
              "      --hover-fill-color: #FFFFFF;\n",
              "      --disabled-bg-color: #3B4455;\n",
              "      --disabled-fill-color: #666;\n",
              "  }\n",
              "\n",
              "  .colab-df-quickchart {\n",
              "    background-color: var(--bg-color);\n",
              "    border: none;\n",
              "    border-radius: 50%;\n",
              "    cursor: pointer;\n",
              "    display: none;\n",
              "    fill: var(--fill-color);\n",
              "    height: 32px;\n",
              "    padding: 0;\n",
              "    width: 32px;\n",
              "  }\n",
              "\n",
              "  .colab-df-quickchart:hover {\n",
              "    background-color: var(--hover-bg-color);\n",
              "    box-shadow: 0 1px 2px rgba(60, 64, 67, 0.3), 0 1px 3px 1px rgba(60, 64, 67, 0.15);\n",
              "    fill: var(--button-hover-fill-color);\n",
              "  }\n",
              "\n",
              "  .colab-df-quickchart-complete:disabled,\n",
              "  .colab-df-quickchart-complete:disabled:hover {\n",
              "    background-color: var(--disabled-bg-color);\n",
              "    fill: var(--disabled-fill-color);\n",
              "    box-shadow: none;\n",
              "  }\n",
              "\n",
              "  .colab-df-spinner {\n",
              "    border: 2px solid var(--fill-color);\n",
              "    border-color: transparent;\n",
              "    border-bottom-color: var(--fill-color);\n",
              "    animation:\n",
              "      spin 1s steps(1) infinite;\n",
              "  }\n",
              "\n",
              "  @keyframes spin {\n",
              "    0% {\n",
              "      border-color: transparent;\n",
              "      border-bottom-color: var(--fill-color);\n",
              "      border-left-color: var(--fill-color);\n",
              "    }\n",
              "    20% {\n",
              "      border-color: transparent;\n",
              "      border-left-color: var(--fill-color);\n",
              "      border-top-color: var(--fill-color);\n",
              "    }\n",
              "    30% {\n",
              "      border-color: transparent;\n",
              "      border-left-color: var(--fill-color);\n",
              "      border-top-color: var(--fill-color);\n",
              "      border-right-color: var(--fill-color);\n",
              "    }\n",
              "    40% {\n",
              "      border-color: transparent;\n",
              "      border-right-color: var(--fill-color);\n",
              "      border-top-color: var(--fill-color);\n",
              "    }\n",
              "    60% {\n",
              "      border-color: transparent;\n",
              "      border-right-color: var(--fill-color);\n",
              "    }\n",
              "    80% {\n",
              "      border-color: transparent;\n",
              "      border-right-color: var(--fill-color);\n",
              "      border-bottom-color: var(--fill-color);\n",
              "    }\n",
              "    90% {\n",
              "      border-color: transparent;\n",
              "      border-bottom-color: var(--fill-color);\n",
              "    }\n",
              "  }\n",
              "</style>\n",
              "\n",
              "      <script>\n",
              "        async function quickchart(key) {\n",
              "          const quickchartButtonEl =\n",
              "            document.querySelector('#' + key + ' button');\n",
              "          quickchartButtonEl.disabled = true;  // To prevent multiple clicks.\n",
              "          quickchartButtonEl.classList.add('colab-df-spinner');\n",
              "          try {\n",
              "            const charts = await google.colab.kernel.invokeFunction(\n",
              "                'suggestCharts', [key], {});\n",
              "          } catch (error) {\n",
              "            console.error('Error during call to suggestCharts:', error);\n",
              "          }\n",
              "          quickchartButtonEl.classList.remove('colab-df-spinner');\n",
              "          quickchartButtonEl.classList.add('colab-df-quickchart-complete');\n",
              "        }\n",
              "        (() => {\n",
              "          let quickchartButtonEl =\n",
              "            document.querySelector('#df-dcb52fcd-4da7-444a-a2ad-489ac6aa4972 button');\n",
              "          quickchartButtonEl.style.display =\n",
              "            google.colab.kernel.accessAllowed ? 'block' : 'none';\n",
              "        })();\n",
              "      </script>\n",
              "    </div>\n",
              "\n",
              "    </div>\n",
              "  </div>\n"
            ],
            "application/vnd.google.colaboratory.intrinsic+json": {
              "type": "dataframe",
              "variable_name": "df_acc",
              "summary": "{\n  \"name\": \"df_acc\",\n  \"rows\": 9913,\n  \"fields\": [\n    {\n      \"column\": \"True Labels\",\n      \"properties\": {\n        \"dtype\": \"object\",\n        \"semantic_type\": \"\",\n        \"description\": \"\"\n      }\n    },\n    {\n      \"column\": \"Pred Labels\",\n      \"properties\": {\n        \"dtype\": \"object\",\n        \"semantic_type\": \"\",\n        \"description\": \"\"\n      }\n    }\n  ]\n}"
            }
          },
          "metadata": {},
          "execution_count": 41
        }
      ]
    },
    {
      "cell_type": "markdown",
      "source": [
        "Creating a dataframe with true labels and pred labels (from boolean values) to calculate Jaccard index."
      ],
      "metadata": {
        "id": "O9ZizWebo53k"
      }
    },
    {
      "cell_type": "code",
      "source": [
        "def multi_label_accuracy(df, true_labels_col, predicted_labels_col):\n",
        "\n",
        "    accuracies = []\n",
        "    for index, row in df.iterrows():\n",
        "        true_label = row[true_labels_col]\n",
        "        predicted_labels = row[predicted_labels_col]\n",
        "\n",
        "        tp = 0\n",
        "        fp = 0\n",
        "        fn = 0\n",
        "\n",
        "        for i in range(len(true_label)):\n",
        "            t = true_label[i]\n",
        "            p = predicted_labels[i]\n",
        "\n",
        "            if t == 1 and p == 1:\n",
        "                tp += 1\n",
        "            elif t == 0 and p == 1:\n",
        "                fp += 1\n",
        "            elif t == 1 and p == 0:\n",
        "                fn += 1\n",
        "\n",
        "        denominator = tp + fp + fn\n",
        "        if denominator > 0:\n",
        "            accuracy = tp / denominator\n",
        "            accuracies.append(accuracy)\n",
        "\n",
        "    return sum(accuracies) / len(accuracies) if accuracies else 0.0\n",
        "\n",
        "accuracy = multi_label_accuracy(df_acc, 'True Labels', 'Pred Labels')\n",
        "print(f\"Multi-label Accuracy: {accuracy}\")"
      ],
      "metadata": {
        "colab": {
          "base_uri": "https://localhost:8080/"
        },
        "id": "N3f243mgwVkB",
        "outputId": "0efb3b5b-3f11-42e7-be4a-2504c53894d9"
      },
      "execution_count": null,
      "outputs": [
        {
          "output_type": "stream",
          "name": "stdout",
          "text": [
            "Multi-label Accuracy: 0.7510370507016317\n"
          ]
        }
      ]
    },
    {
      "cell_type": "markdown",
      "source": [
        "Calculating the Jaccard index.![image (1).png](data:image/png;base64,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)\n",
        "![image (2).png](data:image/png;base64,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)"
      ],
      "metadata": {
        "id": "xNgDQV5opAgD"
      }
    }
  ]
}